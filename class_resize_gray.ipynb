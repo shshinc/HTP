{
  "nbformat": 4,
  "nbformat_minor": 0,
  "metadata": {
    "colab": {
      "private_outputs": true,
      "provenance": []
    },
    "kernelspec": {
      "name": "python3",
      "display_name": "Python 3"
    },
    "language_info": {
      "name": "python"
    }
  },
  "cells": [
    {
      "cell_type": "code",
      "source": [
        "from google.colab import drive\n",
        "drive.mount('/content/drive/')"
      ],
      "metadata": {
        "id": "a4aBrP8CJZ-l"
      },
      "execution_count": null,
      "outputs": []
    },
    {
      "cell_type": "code",
      "source": [
        "!cd /content/drive/MyDrive/공모전/*;"
      ],
      "metadata": {
        "id": "IYKxHuccJ0Dh"
      },
      "execution_count": null,
      "outputs": []
    },
    {
      "cell_type": "markdown",
      "source": [
        "# Resize, Grayscale Class"
      ],
      "metadata": {
        "id": "HaGeE5oQuEUp"
      }
    },
    {
      "cell_type": "code",
      "source": [
        "import os\n",
        "import cv2\n",
        "import concurrent.futures\n",
        "\n",
        "class ImageProcessor:\n",
        "    def __init__(self, input_folder, output_folder, new_width=640, new_height=640):\n",
        "        self.input_folder = input_folder\n",
        "        self.output_folder = output_folder\n",
        "        self.new_width = new_width\n",
        "        self.new_height = new_height\n",
        "\n",
        "    def process_image(self, input_path):\n",
        "        try:\n",
        "            # 이미지를 리사이징\n",
        "            img = cv2.imread(input_path)\n",
        "            img = cv2.resize(img, (self.new_width, self.new_height), interpolation=cv2.INTER_AREA)\n",
        "\n",
        "            # 그레이스케일 변환\n",
        "            grayscale_img = cv2.cvtColor(img, cv2.COLOR_BGR2GRAY)\n",
        "\n",
        "            # 출력 경로 설정\n",
        "            filename = os.path.basename(input_path)\n",
        "            output_path = os.path.join(self.output_folder, filename)\n",
        "\n",
        "            # 이미지 저장\n",
        "            cv2.imwrite(output_path, grayscale_img)\n",
        "            print(f\"Processed: {input_path} -> {output_path}\")\n",
        "        except Exception as e:\n",
        "            print(f\"Error processing {input_path}: {e}\")\n",
        "\n",
        "    def resize_and_convert(self):\n",
        "        # 출력 폴더가 없다면 생성\n",
        "        if not os.path.exists(self.output_folder):\n",
        "            os.makedirs(self.output_folder)\n",
        "\n",
        "        # 입력 폴더에서 모든 이미지 파일 가져오기\n",
        "        image_files = [os.path.join(self.input_folder, filename) for filename in os.listdir(self.input_folder) if filename.endswith('.jpg')]\n",
        "\n",
        "        # 병렬 처리 시작\n",
        "        with concurrent.futures.ThreadPoolExecutor() as executor:\n",
        "            executor.map(self.process_image, image_files)\n",
        "\n",
        "# 사용 예시\n",
        "input_folders = [\"/content/drive/MyDrive/공모전/house\", \"/content/drive/MyDrive/공모전/tree\", \"/content/drive/MyDrive/공모전/person\"]  # 각 이미지 폴더 경로를 지정\n",
        "output_folders = [\"House_Resized\", \"Tree_Resized\", \"Person_Resized\"]  # 각 폴더 경로지정\n",
        "new_width = 640\n",
        "new_height = 640\n",
        "\n",
        "for input_folder, output_folder in zip(input_folders, output_folders):\n",
        "    processor = ImageProcessor(input_folder, output_folder, new_width, new_height)\n",
        "    processor.resize_and_convert()\n"
      ],
      "metadata": {
        "id": "lelYSBLHdKLf"
      },
      "execution_count": null,
      "outputs": []
    },
    {
      "cell_type": "code",
      "source": [],
      "metadata": {
        "id": "G04AGbUDelER"
      },
      "execution_count": null,
      "outputs": []
    },
    {
      "cell_type": "code",
      "source": [],
      "metadata": {
        "id": "pdc1UsHEnzSj"
      },
      "execution_count": null,
      "outputs": []
    }
  ]
}